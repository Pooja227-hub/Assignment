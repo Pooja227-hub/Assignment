{
 "cells": [
  {
   "cell_type": "code",
   "execution_count": 1,
   "id": "f1d74fb5",
   "metadata": {},
   "outputs": [],
   "source": [
    "# Exercise 1: Prime Numbers\n",
    "def is_prime(number):\n",
    "    \"\"\"Check if a given number is prime.\"\"\"\n",
    "    if number <= 1:\n",
    "        return False\n",
    "    if number <= 3:\n",
    "        return True\n",
    "    if number % 2 == 0 or number % 3 == 0:\n",
    "        return False\n",
    "    i = 5\n",
    "    while i * i <= number:\n",
    "        if number % i == 0 or number % (i + 2) == 0:\n",
    "            return False\n",
    "        i += 6\n",
    "    return True\n"
   ]
  },
  {
   "cell_type": "code",
   "execution_count": 2,
   "id": "8e194fc5",
   "metadata": {},
   "outputs": [
    {
     "name": "stdin",
     "output_type": "stream",
     "text": [
      "Enter a number to check if it is prime:  7\n"
     ]
    },
    {
     "name": "stdout",
     "output_type": "stream",
     "text": [
      "7 is prime: True\n"
     ]
    }
   ],
   "source": [
    "# Example usage\n",
    "num = int(input(\"Enter a number to check if it is prime: \"))\n",
    "print(f\"{num} is prime: {is_prime(num)}\")"
   ]
  },
  {
   "cell_type": "code",
   "execution_count": 3,
   "id": "070e6d2e",
   "metadata": {},
   "outputs": [],
   "source": [
    "# Exercise 2: Product of Random Numbers\n",
    "import random\n",
    "\n",
    "def check_product():\n",
    "    \"\"\"Generate two random numbers and check the user's answer for their product.\"\"\"\n",
    "    num1 = random.randint(1, 10)\n",
    "    num2 = random.randint(1, 10)\n",
    "    correct_product = num1 * num2\n",
    "\n",
    "    print(f\"Guess the product of {num1} and {num2}.\")\n",
    "    user_product = int(input(\"Your answer: \"))\n",
    "\n",
    "    if user_product == correct_product:\n",
    "        print(\"Correct!\")\n",
    "    else:\n",
    "        print(f\"Incorrect. The correct product is {correct_product}.\")\n",
    "\n",
    "# Uncomment to run the product check\n",
    "# check_product()\n"
   ]
  },
  {
   "cell_type": "code",
   "execution_count": 4,
   "id": "a9e19cf6",
   "metadata": {},
   "outputs": [
    {
     "name": "stdout",
     "output_type": "stream",
     "text": [
      "Squares of even numbers from 100 to 200:\n",
      "100 squared is 10000\n",
      "102 squared is 10404\n",
      "104 squared is 10816\n",
      "106 squared is 11236\n",
      "108 squared is 11664\n",
      "110 squared is 12100\n",
      "112 squared is 12544\n",
      "114 squared is 12996\n",
      "116 squared is 13456\n",
      "118 squared is 13924\n",
      "120 squared is 14400\n",
      "122 squared is 14884\n",
      "124 squared is 15376\n",
      "126 squared is 15876\n",
      "128 squared is 16384\n",
      "130 squared is 16900\n",
      "132 squared is 17424\n",
      "134 squared is 17956\n",
      "136 squared is 18496\n",
      "138 squared is 19044\n",
      "140 squared is 19600\n",
      "142 squared is 20164\n",
      "144 squared is 20736\n",
      "146 squared is 21316\n",
      "148 squared is 21904\n",
      "150 squared is 22500\n",
      "152 squared is 23104\n",
      "154 squared is 23716\n",
      "156 squared is 24336\n",
      "158 squared is 24964\n",
      "160 squared is 25600\n",
      "162 squared is 26244\n",
      "164 squared is 26896\n",
      "166 squared is 27556\n",
      "168 squared is 28224\n",
      "170 squared is 28900\n",
      "172 squared is 29584\n",
      "174 squared is 30276\n",
      "176 squared is 30976\n",
      "178 squared is 31684\n",
      "180 squared is 32400\n",
      "182 squared is 33124\n",
      "184 squared is 33856\n",
      "186 squared is 34596\n",
      "188 squared is 35344\n",
      "190 squared is 36100\n",
      "192 squared is 36864\n",
      "194 squared is 37636\n",
      "196 squared is 38416\n",
      "198 squared is 39204\n",
      "200 squared is 40000\n"
     ]
    }
   ],
   "source": [
    "# Exercise 3: Squares of Even/Odd Numbers\n",
    "def print_squares_of_even_numbers(start, end):\n",
    "    \"\"\"Print squares of even numbers in the given range.\"\"\"\n",
    "    for number in range(start, end + 1):\n",
    "        if number % 2 == 0:\n",
    "            print(f\"{number} squared is {number ** 2}\")\n",
    "\n",
    "def print_squares_of_odd_numbers(start, end):\n",
    "    \"\"\"Print squares of odd numbers in the given range.\"\"\"\n",
    "    for number in range(start, end + 1):\n",
    "        if number % 2 != 0:\n",
    "            print(f\"{number} squared is {number ** 2}\")\n",
    "\n",
    "# Choose whether to print squares of even or odd numbers\n",
    "print(\"Squares of even numbers from 100 to 200:\")\n",
    "print_squares_of_even_numbers(100, 200)\n"
   ]
  },
  {
   "cell_type": "code",
   "execution_count": 5,
   "id": "693048d3",
   "metadata": {},
   "outputs": [
    {
     "name": "stdout",
     "output_type": "stream",
     "text": [
      "Word counts:\n",
      "'this': 2\n",
      "'is': 1\n",
      "'a': 1\n",
      "'sample': 1\n",
      "'text': 2\n",
      "'will': 1\n",
      "'be': 1\n",
      "'used': 1\n",
      "'to': 1\n",
      "'demonstrate': 1\n",
      "'the': 1\n",
      "'word': 1\n",
      "'counter': 1\n"
     ]
    }
   ],
   "source": [
    "# Exercise 4: Word Counter\n",
    "from collections import Counter\n",
    "import re\n",
    "\n",
    "def word_counter(text):\n",
    "    \"\"\"Count the number of occurrences of each word in the given text.\"\"\"\n",
    "    # Convert to lowercase and split by non-alphanumeric characters\n",
    "    words = re.findall(r'\\b\\w+\\b', text.lower())\n",
    "    word_counts = Counter(words)\n",
    "    \n",
    "    for word, count in word_counts.items():\n",
    "        print(f\"'{word}': {count}\")\n",
    "\n",
    "# Example usage\n",
    "input_text = \"This is a sample text. This text will be used to demonstrate the word counter.\"\n",
    "print(\"Word counts:\")\n",
    "word_counter(input_text)\n"
   ]
  },
  {
   "cell_type": "code",
   "execution_count": 6,
   "id": "5090dc87",
   "metadata": {},
   "outputs": [
    {
     "name": "stdin",
     "output_type": "stream",
     "text": [
      "Enter a string to check if it is a palindrome:  rarc\n"
     ]
    },
    {
     "name": "stdout",
     "output_type": "stream",
     "text": [
      "'rarc' is a palindrome: False\n"
     ]
    }
   ],
   "source": [
    "# Exercise 5: Check for Palindrome\n",
    "import string\n",
    "\n",
    "def is_palindrome(s):\n",
    "    \"\"\"Check if the given string is a palindrome.\"\"\"\n",
    "    # Remove punctuation and convert to lowercase\n",
    "    s = ''.join(char for char in s if char.isalnum()).lower()\n",
    "    return s == s[::-1]\n",
    "\n",
    "# Example usage\n",
    "test_string = input(\"Enter a string to check if it is a palindrome: \")\n",
    "print(f\"'{test_string}' is a palindrome: {is_palindrome(test_string)}\")\n"
   ]
  },
  {
   "cell_type": "code",
   "execution_count": null,
   "id": "b5fcb177",
   "metadata": {},
   "outputs": [],
   "source": []
  }
 ],
 "metadata": {
  "kernelspec": {
   "display_name": "Python 3 (ipykernel)",
   "language": "python",
   "name": "python3"
  },
  "language_info": {
   "codemirror_mode": {
    "name": "ipython",
    "version": 3
   },
   "file_extension": ".py",
   "mimetype": "text/x-python",
   "name": "python",
   "nbconvert_exporter": "python",
   "pygments_lexer": "ipython3",
   "version": "3.12.7"
  }
 },
 "nbformat": 4,
 "nbformat_minor": 5
}

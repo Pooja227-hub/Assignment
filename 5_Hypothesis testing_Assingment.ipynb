{
 "cells": [
  {
   "cell_type": "markdown",
   "id": "7f583e0e",
   "metadata": {},
   "source": [
    "# 1 State the Hypotheses :-\n",
    "H0 (Null Hypothesis) : μ = 4000\n",
    "\n",
    "H1 (Alternate Hypothesis): μ ≠ 4000 (Not equal means either μ > 4000 or μ < 4000 Hence it will be validated with two tailed test )\n",
    "\n",
    "σ = 125 (Population Standard Deviation)\n",
    "\n",
    "(α) = 5%\n",
    "# 2 Calculate the Test Statistic:\n",
    "Use the following formula to calculate the test statistic (t):\n",
    "\n",
    "where:\n",
    "\n",
    "xˉ = sample mean weekly cost (Rs. 3,050)\n",
    "\n",
    "μ = theoretical mean weekly cost according to the cost model (W = \n",
    "5X for X = 600 units) = 4000\n",
    "\n",
    "σ = 5*25 units = 125 units\n",
    "\n",
    "n = sample size (25 restaurants)\n",
    "\n",
    "--> I will go with z-test.\n",
    "\n",
    "# 3 Calculate z using z-test formula as below:\n",
    "\n",
    "z = (x̄ - μ)/ (σ/√n)\n",
    "\n",
    "z = (3050 - 4000) / (125/√25)\n",
    "\n",
    "z = -38\n",
    "\n",
    "Then I will go with Two tail test.\n",
    "\n",
    "Determine the Critical Value:\n",
    "Using the alpha level of 5% (α = 0.05), determine the critical value from the standard normal (Z) distribution table.\n",
    "\n",
    "get z critical value from z table for α = 5%\n",
    "\n",
    "z critical values = (-1.96, +1.96)\n",
    "\n",
    "# 4 calculated z should be in between -1.96 < z < +1.96\n",
    "\n",
    "Make a Decision:\n",
    "Compare the test statistic with the critical value to decide whether to reject the null hypothesis.\n",
    "\n",
    "--> but calculated z (-38) < -1.96 which mean reject the null hypothesis\n",
    "\n",
    "# 5 Conclusion:\n",
    "Based on the decision in step 4, conclude whether there is strong evidence to support the restaurant owners' claim that the weekly operating costs are higher than the model suggests.\n",
    "\n",
    "-- > Conclusion there is strong evidence to support the restaurant owners' claim that the weekly operating costs are higher than the model suggests.\n",
    "\n",
    "\n",
    "\n",
    "     "
   ]
  },
  {
   "cell_type": "markdown",
   "id": "05faf139",
   "metadata": {},
   "source": []
  }
 ],
 "metadata": {
  "kernelspec": {
   "display_name": "Python 3 (ipykernel)",
   "language": "python",
   "name": "python3"
  },
  "language_info": {
   "codemirror_mode": {
    "name": "ipython",
    "version": 3
   },
   "file_extension": ".py",
   "mimetype": "text/x-python",
   "name": "python",
   "nbconvert_exporter": "python",
   "pygments_lexer": "ipython3",
   "version": "3.12.7"
  }
 },
 "nbformat": 4,
 "nbformat_minor": 5
}

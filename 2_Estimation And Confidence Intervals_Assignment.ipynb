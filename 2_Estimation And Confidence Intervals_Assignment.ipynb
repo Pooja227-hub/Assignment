{
 "cells": [
  {
   "cell_type": "code",
   "execution_count": 1,
   "id": "5c551f90",
   "metadata": {},
   "outputs": [],
   "source": [
    "import numpy as np\n",
    "from scipy import stats\n",
    "\n",
    "# Data\n",
    "durability = np.array([1.13, 1.55, 1.43, 0.92, 1.25, 1.36, 1.32, 0.85, 1.07, 1.48, 1.20, 1.33, 1.18, 1.22, 1.29])\n",
    "\n",
    "\n"
   ]
  },
  {
   "cell_type": "code",
   "execution_count": 2,
   "id": "630ce64e",
   "metadata": {},
   "outputs": [],
   "source": [
    "# Sample statistics\n",
    "n = len(durability)\n",
    "mean = np.mean(durability)\n",
    "std_dev = np.std(durability, ddof=1)  # Sample standard deviation\n"
   ]
  },
  {
   "cell_type": "code",
   "execution_count": 3,
   "id": "f708fef4",
   "metadata": {},
   "outputs": [
    {
     "data": {
      "text/plain": [
       "15"
      ]
     },
     "execution_count": 3,
     "metadata": {},
     "output_type": "execute_result"
    }
   ],
   "source": [
    "n"
   ]
  },
  {
   "cell_type": "code",
   "execution_count": 4,
   "id": "89648c91",
   "metadata": {},
   "outputs": [
    {
     "data": {
      "text/plain": [
       "1.2386666666666666"
      ]
     },
     "execution_count": 4,
     "metadata": {},
     "output_type": "execute_result"
    }
   ],
   "source": [
    "mean"
   ]
  },
  {
   "cell_type": "code",
   "execution_count": 5,
   "id": "6aa7c817",
   "metadata": {},
   "outputs": [
    {
     "data": {
      "text/plain": [
       "0.19316412956959936"
      ]
     },
     "execution_count": 5,
     "metadata": {},
     "output_type": "execute_result"
    }
   ],
   "source": [
    "std_dev"
   ]
  },
  {
   "cell_type": "code",
   "execution_count": 6,
   "id": "5f55ed7a",
   "metadata": {},
   "outputs": [],
   "source": [
    "# Confidence level\n",
    "confidence = 0.99\n",
    "alpha = 1 - confidence"
   ]
  },
  {
   "cell_type": "code",
   "execution_count": 7,
   "id": "0d0c5a63",
   "metadata": {},
   "outputs": [
    {
     "data": {
      "text/plain": [
       "0.99"
      ]
     },
     "execution_count": 7,
     "metadata": {},
     "output_type": "execute_result"
    }
   ],
   "source": [
    "confidence"
   ]
  },
  {
   "cell_type": "code",
   "execution_count": 8,
   "id": "d77017e2",
   "metadata": {},
   "outputs": [
    {
     "data": {
      "text/plain": [
       "0.010000000000000009"
      ]
     },
     "execution_count": 8,
     "metadata": {},
     "output_type": "execute_result"
    }
   ],
   "source": [
    "alpha"
   ]
  },
  {
   "cell_type": "code",
   "execution_count": 9,
   "id": "fcdad0de",
   "metadata": {},
   "outputs": [],
   "source": [
    "# t-distribution critical value\n",
    "t_critical = stats.t.ppf(1 - alpha / 2, df=n - 1)"
   ]
  },
  {
   "cell_type": "code",
   "execution_count": 10,
   "id": "1f4811a6",
   "metadata": {},
   "outputs": [
    {
     "data": {
      "text/plain": [
       "2.976842734370834"
      ]
     },
     "execution_count": 10,
     "metadata": {},
     "output_type": "execute_result"
    }
   ],
   "source": [
    "t_critical"
   ]
  },
  {
   "cell_type": "code",
   "execution_count": 11,
   "id": "ee2a62e2",
   "metadata": {},
   "outputs": [],
   "source": [
    "# calculate Margin of Error\n",
    "margin_of_error = t_critical * (std_dev / np.sqrt(n))\n"
   ]
  },
  {
   "cell_type": "code",
   "execution_count": 12,
   "id": "cc583d68",
   "metadata": {},
   "outputs": [
    {
     "data": {
      "text/plain": [
       "0.14846932822817596"
      ]
     },
     "execution_count": 12,
     "metadata": {},
     "output_type": "execute_result"
    }
   ],
   "source": [
    "margin_of_error"
   ]
  },
  {
   "cell_type": "code",
   "execution_count": 13,
   "id": "23f61eb0",
   "metadata": {},
   "outputs": [],
   "source": [
    "# Confidence Interval\n",
    "ci_lower = mean - margin_of_error\n",
    "ci_upper = mean + margin_of_error\n"
   ]
  },
  {
   "cell_type": "code",
   "execution_count": 14,
   "id": "2f6c6ad3",
   "metadata": {},
   "outputs": [
    {
     "data": {
      "text/plain": [
       "1.0901973384384906"
      ]
     },
     "execution_count": 14,
     "metadata": {},
     "output_type": "execute_result"
    }
   ],
   "source": [
    "ci_lower"
   ]
  },
  {
   "cell_type": "code",
   "execution_count": 15,
   "id": "339c6306",
   "metadata": {},
   "outputs": [
    {
     "data": {
      "text/plain": [
       "1.3871359948948425"
      ]
     },
     "execution_count": 15,
     "metadata": {},
     "output_type": "execute_result"
    }
   ],
   "source": [
    "ci_upper"
   ]
  },
  {
   "cell_type": "code",
   "execution_count": 16,
   "id": "4b718c63",
   "metadata": {},
   "outputs": [
    {
     "name": "stdout",
     "output_type": "stream",
     "text": [
      "99% Confidence Interval using Sample Standard Deviation: (1.0902, 1.3871)\n"
     ]
    }
   ],
   "source": [
    "print(f\"99% Confidence Interval using Sample Standard Deviation: ({ci_lower:.4f}, {ci_upper:.4f})\")"
   ]
  },
  {
   "cell_type": "code",
   "execution_count": 17,
   "id": "d7c04e93",
   "metadata": {},
   "outputs": [],
   "source": [
    "# Known population standard deviation\n",
    "sigma = 0.2"
   ]
  },
  {
   "cell_type": "code",
   "execution_count": 18,
   "id": "611219e4",
   "metadata": {},
   "outputs": [
    {
     "data": {
      "text/plain": [
       "0.2"
      ]
     },
     "execution_count": 18,
     "metadata": {},
     "output_type": "execute_result"
    }
   ],
   "source": [
    "sigma"
   ]
  },
  {
   "cell_type": "code",
   "execution_count": 19,
   "id": "1485874a",
   "metadata": {},
   "outputs": [],
   "source": [
    "# z-distribution critical value\n",
    "z_critical = stats.norm.ppf(1 - alpha / 2)"
   ]
  },
  {
   "cell_type": "code",
   "execution_count": 20,
   "id": "f82a44d5",
   "metadata": {},
   "outputs": [
    {
     "data": {
      "text/plain": [
       "2.5758293035489004"
      ]
     },
     "execution_count": 20,
     "metadata": {},
     "output_type": "execute_result"
    }
   ],
   "source": [
    "z_critical"
   ]
  },
  {
   "cell_type": "code",
   "execution_count": 21,
   "id": "58ac1f6f",
   "metadata": {},
   "outputs": [],
   "source": [
    "# Margin of Error\n",
    "margin_of_error_pop = z_critical * (sigma / np.sqrt(n))\n"
   ]
  },
  {
   "cell_type": "code",
   "execution_count": 22,
   "id": "60d9e0b0",
   "metadata": {},
   "outputs": [
    {
     "data": {
      "text/plain": [
       "0.13301525327090588"
      ]
     },
     "execution_count": 22,
     "metadata": {},
     "output_type": "execute_result"
    }
   ],
   "source": [
    "margin_of_error_pop"
   ]
  },
  {
   "cell_type": "code",
   "execution_count": 23,
   "id": "1921edec",
   "metadata": {},
   "outputs": [],
   "source": [
    "# Confidence Interval\n",
    "ci_lower_pop = mean - margin_of_error_pop\n",
    "ci_upper_pop = mean + margin_of_error_pop"
   ]
  },
  {
   "cell_type": "code",
   "execution_count": 24,
   "id": "3b69e2df",
   "metadata": {},
   "outputs": [
    {
     "data": {
      "text/plain": [
       "1.1056514133957607"
      ]
     },
     "execution_count": 24,
     "metadata": {},
     "output_type": "execute_result"
    }
   ],
   "source": [
    "ci_lower_pop"
   ]
  },
  {
   "cell_type": "code",
   "execution_count": 25,
   "id": "e997a425",
   "metadata": {},
   "outputs": [
    {
     "data": {
      "text/plain": [
       "1.3716819199375725"
      ]
     },
     "execution_count": 25,
     "metadata": {},
     "output_type": "execute_result"
    }
   ],
   "source": [
    "ci_upper_pop"
   ]
  },
  {
   "cell_type": "code",
   "execution_count": 26,
   "id": "8641603b",
   "metadata": {},
   "outputs": [
    {
     "name": "stdout",
     "output_type": "stream",
     "text": [
      "99% Confidence Interval using Known Population Standard Deviation: (1.1057, 1.3717)\n"
     ]
    }
   ],
   "source": [
    "print(f\"99% Confidence Interval using Known Population Standard Deviation: ({ci_lower_pop:.4f}, {ci_upper_pop:.4f})\")"
   ]
  },
  {
   "cell_type": "code",
   "execution_count": null,
   "id": "a8b19672",
   "metadata": {},
   "outputs": [],
   "source": []
  }
 ],
 "metadata": {
  "kernelspec": {
   "display_name": "Python 3 (ipykernel)",
   "language": "python",
   "name": "python3"
  },
  "language_info": {
   "codemirror_mode": {
    "name": "ipython",
    "version": 3
   },
   "file_extension": ".py",
   "mimetype": "text/x-python",
   "name": "python",
   "nbconvert_exporter": "python",
   "pygments_lexer": "ipython3",
   "version": "3.12.7"
  }
 },
 "nbformat": 4,
 "nbformat_minor": 5
}

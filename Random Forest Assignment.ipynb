{
 "cells": [
  {
   "cell_type": "markdown",
   "id": "f67617c6-f8d9-462f-b250-bb783198593a",
   "metadata": {},
   "source": [
    "# Import libraries"
   ]
  },
  {
   "cell_type": "code",
   "execution_count": null,
   "id": "ebc579e0-188f-40c3-824b-0015ba635ef8",
   "metadata": {},
   "outputs": [],
   "source": [
    "import pandas as pd\n",
    "import numpy as np\n",
    "import matplotlib.pyplot as plt\n",
    "import seaborn as sns\n",
    "from sklearn.preprocessing import StandardScaler\n",
    "from sklearn.model_selection import train_test_split\n",
    "from sklearn.preprocessing import StandardScaler\n",
    "from imblearn.over_sampling import SMOTE\n",
    "from sklearn.ensemble import RandomForestClassifier\n",
    "from sklearn.metrics import accuracy_score, precision_score, recall_score, f1_score, classification_report, confusion_matrix\n",
    "from sklearn.tree import DecisionTreeClassifier\n",
    "from sklearn.ensemble import BaggingClassifier\n",
    "from sklearn.ensemble import AdaBoostClassifier\n",
    "from sklearn.ensemble import GradientBoostingClassifier\n",
    "from sklearn.metrics import classification_report\n",
    "import warnings\n",
    "warnings.filterwarnings(\"ignore\", category=FutureWarning)"
   ]
  },
  {
   "cell_type": "markdown",
   "id": "162c3546-b1a4-497c-864e-ef094271a659",
   "metadata": {},
   "source": [
    "# Load data"
   ]
  },
  {
   "cell_type": "code",
   "execution_count": null,
   "id": "b6aeac72-cf12-4e7f-bdac-39444066fd49",
   "metadata": {},
   "outputs": [],
   "source": [
    "df = pd.read_csv('glass.csv')\n",
    "df.head()"
   ]
  },
  {
   "cell_type": "code",
   "execution_count": null,
   "id": "470a7ef3-e7cc-4a08-9522-af8cf1ce7f5c",
   "metadata": {},
   "outputs": [],
   "source": [
    "# EDA and Data Visualization"
   ]
  },
  {
   "cell_type": "code",
   "execution_count": null,
   "id": "d25d9045-49a8-42b6-95b1-4fc7900d02c7",
   "metadata": {},
   "outputs": [],
   "source": [
    "df.info()"
   ]
  },
  {
   "cell_type": "code",
   "execution_count": null,
   "id": "6076e61d-03b0-42ed-8dcc-c14c61e5687d",
   "metadata": {},
   "outputs": [],
   "source": [
    "df.describe()"
   ]
  },
  {
   "cell_type": "code",
   "execution_count": null,
   "id": "f0b5bc5a-c1d5-4078-b689-73caedc5e413",
   "metadata": {},
   "outputs": [],
   "source": [
    "df.isnull().sum()"
   ]
  },
  {
   "cell_type": "code",
   "execution_count": null,
   "id": "504dc449-78a5-4870-93b6-8d58ed4cbfa4",
   "metadata": {},
   "outputs": [],
   "source": [
    "df.hist(bins=15, figsize=(15, 10))\n",
    "plt.suptitle(\"Histograms of Glass Dataset\", fontsize=16)\n",
    "plt.tight_layout()\n",
    "plt.show()"
   ]
  },
  {
   "cell_type": "code",
   "execution_count": null,
   "id": "9fd50f25-d1aa-479f-a990-873e5a0df2a3",
   "metadata": {},
   "outputs": [],
   "source": [
    "plt.figure(figsize=(15, 8))\n",
    "sns.boxplot(data=df, palette=\"Set2\")\n",
    "plt.title(\"Box Plots of Glass Dataset Features\")\n",
    "plt.xticks(rotation=45)\n",
    "plt.show()"
   ]
  },
  {
   "cell_type": "markdown",
   "id": "f132e0f4-bbc5-462f-abb9-c9f97662307c",
   "metadata": {},
   "source": [
    "\n",
    "#Outliers Detection\n",
    "\n",
    "K, Ba, Fe has Strong presence of outliers, especially with values much greater than the median.\n",
    "\n",
    "Ca also shows some high-value outliers, though less extreme.\n",
    "\n",
    "RI, Na, Si Distributions are tighter, indicating more stable measurement ranges.\n"
   ]
  },
  {
   "cell_type": "code",
   "execution_count": null,
   "id": "6bc3f989-9311-4e12-83ae-7dea4d32c7eb",
   "metadata": {},
   "outputs": [],
   "source": [
    "plt.figure(figsize=(10, 8))\n",
    "corr_matrix = df.corr()\n",
    "sns.heatmap(corr_matrix, annot=True, cmap='coolwarm', fmt=\".2f\")\n",
    "plt.title(\"Correlation Heatmap\")\n",
    "plt.show()"
   ]
  },
  {
   "cell_type": "markdown",
   "id": "182daa85-624d-4346-8449-82f89572c81e",
   "metadata": {},
   "source": [
    "\n",
    "#Ca and K, Al and Na are having Strong positive correlations\n",
    "Mg with Al, Si are having Negative correlation \n"
   ]
  },
  {
   "cell_type": "code",
   "execution_count": null,
   "id": "5efb938b-d0d6-484b-9edf-70032ecc7d4e",
   "metadata": {},
   "outputs": [],
   "source": [
    "# Data Preprocessing"
   ]
  },
  {
   "cell_type": "code",
   "execution_count": null,
   "id": "7bf7a106-083f-4c54-88a6-286e9eeb4bb4",
   "metadata": {},
   "outputs": [],
   "source": [
    "df.isnull().sum()"
   ]
  },
  {
   "cell_type": "code",
   "execution_count": null,
   "id": "e4a5e1ed-ae26-4075-88ba-6bb1ac0ba4cd",
   "metadata": {},
   "outputs": [],
   "source": [
    "df.fillna(df.mean(numeric_only=True), inplace=True)"
   ]
  },
  {
   "cell_type": "code",
   "execution_count": null,
   "id": "ea5712d5-c2b3-499e-9571-60abc8e39d0e",
   "metadata": {},
   "outputs": [],
   "source": [
    "df.isnull().sum()"
   ]
  },
  {
   "cell_type": "code",
   "execution_count": null,
   "id": "a6788f54-4510-4593-8912-025ff51f2acd",
   "metadata": {},
   "outputs": [],
   "source": [
    "print(df.dtypes)"
   ]
  },
  {
   "cell_type": "code",
   "execution_count": null,
   "id": "537e6571-a1a2-4120-b491-cb0d13703667",
   "metadata": {},
   "outputs": [],
   "source": [
    "df['Type'] = df['Type'].astype(int)"
   ]
  },
  {
   "cell_type": "code",
   "execution_count": null,
   "id": "ec147111-52c5-4f22-9feb-d836fb3619f0",
   "metadata": {},
   "outputs": [],
   "source": [
    "# converted 'Type' to integer for model compatibility"
   ]
  },
  {
   "cell_type": "code",
   "execution_count": null,
   "id": "35a9c2e1-1d08-4c36-a0aa-a26eea5ae6c2",
   "metadata": {},
   "outputs": [],
   "source": [
    "print(df.dtypes)"
   ]
  },
  {
   "cell_type": "code",
   "execution_count": null,
   "id": "557b5285-6a1f-43c0-9913-ec1b750c6289",
   "metadata": {},
   "outputs": [],
   "source": [
    "X = df.drop('Type', axis=1)\n",
    "y = df['Type']"
   ]
  },
  {
   "cell_type": "code",
   "execution_count": null,
   "id": "82b004de-2f70-4c91-9bf2-ab8c3e527623",
   "metadata": {},
   "outputs": [],
   "source": [
    "X_train, X_test, y_train, y_test = train_test_split(X, y, test_size=0.2, stratify=y, random_state=42)"
   ]
  },
  {
   "cell_type": "code",
   "execution_count": null,
   "id": "d8ac6bcf-1c8a-41c4-8bac-e1d946be3e91",
   "metadata": {},
   "outputs": [],
   "source": [
    "scaler = StandardScaler()\n",
    "X_train_scaled = scaler.fit_transform(X_train)  \n",
    "X_test_scaled = scaler.transform(X_test)      "
   ]
  },
  {
   "cell_type": "code",
   "execution_count": null,
   "id": "e0cd9c15-a918-47e8-9d8c-194f7d77856f",
   "metadata": {},
   "outputs": [],
   "source": [
    "smote = SMOTE(random_state=42)\n",
    "X_train_balanced, y_train_balanced = smote.fit_resample(X_train_scaled, y_train)"
   ]
  },
  {
   "cell_type": "code",
   "execution_count": null,
   "id": "2630f279-af7d-41b7-8df7-7c2b464df592",
   "metadata": {},
   "outputs": [],
   "source": [
    "# Handel inbalanced data using SMOTE."
   ]
  },
  {
   "cell_type": "code",
   "execution_count": null,
   "id": "e5a46601-24e8-491a-ba05-847c3f1e23de",
   "metadata": {},
   "outputs": [],
   "source": [
    "# Random Forest Model Implementation"
   ]
  },
  {
   "cell_type": "code",
   "execution_count": null,
   "id": "1ca0ab74-9c6c-4830-801e-6ac754a2ede0",
   "metadata": {},
   "outputs": [],
   "source": [
    "rf = RandomForestClassifier(n_estimators=100, random_state=42)"
   ]
  },
  {
   "cell_type": "code",
   "execution_count": null,
   "id": "152d48ec-6d2b-4619-84a7-c56a54269f79",
   "metadata": {},
   "outputs": [],
   "source": [
    "rf.fit(X_train_balanced, y_train_balanced)"
   ]
  },
  {
   "cell_type": "code",
   "execution_count": null,
   "id": "454b7640-42a8-4b40-93b0-c511bd5bc79c",
   "metadata": {},
   "outputs": [],
   "source": [
    "y_pred = rf.predict(X_test_scaled)"
   ]
  },
  {
   "cell_type": "code",
   "execution_count": null,
   "id": "1b6d1252-ee54-4ada-90f2-e68340ee64a9",
   "metadata": {},
   "outputs": [],
   "source": [
    "print(\"Classification Report:\")\n",
    "print(classification_report(y_test, y_pred))"
   ]
  },
  {
   "cell_type": "code",
   "execution_count": null,
   "id": "931d28d6-0943-481c-b581-9764e21c68e4",
   "metadata": {},
   "outputs": [],
   "source": [
    "print(\"Accuracy:\", accuracy_score(y_test, y_pred))\n",
    "print(\"Precision:\", precision_score(y_test, y_pred, average='macro'))\n",
    "print(\"Recall:\", recall_score(y_test, y_pred, average='macro'))\n",
    "print(\"F1 Score:\", f1_score(y_test, y_pred, average='macro'))"
   ]
  },
  {
   "cell_type": "code",
   "execution_count": null,
   "id": "9cacbfa3-9a02-40ff-b94d-821e240b046e",
   "metadata": {},
   "outputs": [],
   "source": [
    "# Bagging and Boosting Methods"
   ]
  },
  {
   "cell_type": "code",
   "execution_count": null,
   "id": "0b973a7b-03f9-4688-af04-b62ee505dede",
   "metadata": {},
   "outputs": [],
   "source": [
    "bagging_model = BaggingClassifier(\n",
    "    estimator=DecisionTreeClassifier(),\n",
    "    n_estimators=100,\n",
    "    random_state=42\n",
    ")"
   ]
  },
  {
   "cell_type": "code",
   "execution_count": null,
   "id": "32e9310a-e0e1-4656-9298-5e90cbae3936",
   "metadata": {},
   "outputs": [],
   "source": [
    "bagging_model.fit(X_train_balanced, y_train_balanced)"
   ]
  },
  {
   "cell_type": "code",
   "execution_count": null,
   "id": "80e80ab5-7de6-4998-bef8-465451bb2592",
   "metadata": {},
   "outputs": [],
   "source": [
    "y_pred_bag = bagging_model.predict(X_test_scaled)"
   ]
  },
  {
   "cell_type": "code",
   "execution_count": null,
   "id": "effae967-39a8-4977-bf69-889ad3bef0fd",
   "metadata": {},
   "outputs": [],
   "source": [
    "ada_model = AdaBoostClassifier(\n",
    "    n_estimators=100,\n",
    "    random_state=42\n",
    ")\n",
    "\n",
    "ada_model.fit(X_train_balanced, y_train_balanced)\n",
    "y_pred_ada = ada_model.predict(X_test_scaled)"
   ]
  },
  {
   "cell_type": "code",
   "execution_count": null,
   "id": "5ca49cf8-ffe5-4329-98ba-eb32dde98892",
   "metadata": {},
   "outputs": [],
   "source": [
    "gb_model = GradientBoostingClassifier(\n",
    "    n_estimators=100,\n",
    "    learning_rate=0.1,\n",
    "    random_state=42\n",
    ")\n",
    "\n",
    "gb_model.fit(X_train_balanced, y_train_balanced)\n",
    "y_pred_gb = gb_model.predict(X_test_scaled)"
   ]
  },
  {
   "cell_type": "code",
   "execution_count": null,
   "id": "5b38ec41-a566-4e41-a0a6-ecb07ebdc9e4",
   "metadata": {},
   "outputs": [],
   "source": [
    "def evaluate_model(name, y_true, y_pred):\n",
    "    print(f\"\\n {name} Classification Report\")\n",
    "    print(classification_report(y_true, y_pred, zero_division=0))\n",
    "\n",
    "evaluate_model(\"Bagging (Decision Tree)\", y_test, y_pred_bag)\n",
    "evaluate_model(\"AdaBoost\", y_test, y_pred_ada)\n",
    "evaluate_model(\"Gradient Boosting\", y_test, y_pred_gb)"
   ]
  },
  {
   "cell_type": "markdown",
   "id": "65876809-1952-4157-99c7-e3ef0009cde9",
   "metadata": {},
   "source": [
    "\n",
    "#Bagging (Decision Tree) gave the best overall performance, with high accuracy and strong F1-score.\n",
    "\n",
    "Gradient Boosting was a close second, showing better handling of minority classes than AdaBoost.\n",
    "\n",
    "AdaBoost struggled with small class sizes, making it less suitable for imbalanced multi-class datasets.\n"
   ]
  },
  {
   "cell_type": "markdown",
   "id": "d8bde5d9-ba54-408d-bd84-83c487cfd4fd",
   "metadata": {},
   "source": [
    "# Interview Questions"
   ]
  },
  {
   "cell_type": "markdown",
   "id": "59f80915-a963-4602-af19-75f5900c23ee",
   "metadata": {},
   "source": [
    "#1. Explain Bagging and Boosting methods. How is it different from each other."
   ]
  },
  {
   "cell_type": "markdown",
   "id": "b53102fb-3fb5-43d2-bcb7-03102789bd1a",
   "metadata": {},
   "source": [
    "\n",
    "#Bagging and Boosting are methods that combine multiple models to improve accuracy.\n",
    "Bagging builds models independently on random data samples to reduce variance, like in Random Forest.\n",
    "Boosting builds models one after another, each fixing the last model’s mistakes, to reduce bias, like in AdaBoost.\n",
    "The key difference is Bagging trains in parallel, Boosting trains in sequence.\n"
   ]
  },
  {
   "cell_type": "markdown",
   "id": "bd4d29e7-7b5c-41e9-b45e-d1f349d74bac",
   "metadata": {},
   "source": [
    "#2. Explain how to handle imbalance in the data."
   ]
  },
  {
   "cell_type": "markdown",
   "id": "1a2b6570-d912-4eb2-b945-8a3868392d03",
   "metadata": {},
   "source": [
    "\n",
    "#To handle imbalanced data, we can use techniques like\n",
    "resampling (oversampling the minority class or undersampling the majority), \n",
    "SMOTE (synthetic data generation), or apply class weights to give more importance to the minority class. \n",
    "These methods help the model learn from all classes more fairly and improve performance on underrepresented classes.\n"
   ]
  },
  {
   "cell_type": "code",
   "execution_count": null,
   "id": "0613ddd2-969e-496a-a5b7-1bc9914f6f2c",
   "metadata": {},
   "outputs": [],
   "source": []
  }
 ],
 "metadata": {
  "kernelspec": {
   "display_name": "Python 3 (ipykernel)",
   "language": "python",
   "name": "python3"
  },
  "language_info": {
   "codemirror_mode": {
    "name": "ipython",
    "version": 3
   },
   "file_extension": ".py",
   "mimetype": "text/x-python",
   "name": "python",
   "nbconvert_exporter": "python",
   "pygments_lexer": "ipython3",
   "version": "3.12.7"
  }
 },
 "nbformat": 4,
 "nbformat_minor": 5
}
